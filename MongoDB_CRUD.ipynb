{
 "cells": [
  {
   "cell_type": "code",
   "execution_count": 55,
   "metadata": {
    "collapsed": true
   },
   "outputs": [],
   "source": [
    "import pymongo"
   ]
  },
  {
   "cell_type": "code",
   "execution_count": 56,
   "metadata": {
    "collapsed": true
   },
   "outputs": [],
   "source": [
    "from pymongo import MongoClient"
   ]
  },
  {
   "cell_type": "code",
   "execution_count": 57,
   "metadata": {
    "collapsed": true
   },
   "outputs": [],
   "source": [
    "# 1. MongoClient 객체를 생성하여, MongoDB Server 에 연결 \n",
    "client = MongoClient('localhost', 27017)"
   ]
  },
  {
   "cell_type": "code",
   "execution_count": 58,
   "metadata": {
    "collapsed": true
   },
   "outputs": [],
   "source": [
    "# 2. 데이터베이스 연결\n",
    "    # 데이터베이스가 없다면 새롭게 생성하고, 연결\n",
    "    # 데이터베이스가 있다면 연결\n",
    "    # sample 이라는 이름의 데이터베이스 생성, 연결\n",
    "db = client.sample"
   ]
  },
  {
   "cell_type": "code",
   "execution_count": 59,
   "metadata": {
    "collapsed": true
   },
   "outputs": [],
   "source": [
    "# 3. 컬렉션 연결\n",
    "    # 컬렉션이 없다면 새롭게 생성하고, 연결\n",
    "    # 컬렉션이 있다면 연결\n",
    "    # test 라는 이름의 컬렉션 생성, 연결\n",
    "collection = db.test"
   ]
  },
  {
   "cell_type": "markdown",
   "metadata": {},
   "source": [
    "### 데이터 등록, 조회, 수정, 삭제 (CRUD)\n",
    "- 등록(insert)\n",
    "    - insert() : deprecated\n",
    "    - insert_one()\n",
    "    - insert_many()"
   ]
  },
  {
   "cell_type": "code",
   "execution_count": 60,
   "metadata": {},
   "outputs": [
    {
     "name": "stderr",
     "output_type": "stream",
     "text": [
      "C:\\Users\\theny\\Anaconda3\\lib\\site-packages\\ipykernel_launcher.py:1: DeprecationWarning: insert is deprecated. Use insert_one or insert_many instead.\n",
      "  \"\"\"Entry point for launching an IPython kernel.\n"
     ]
    },
    {
     "data": {
      "text/plain": [
       "ObjectId('62949c97f37bc9c567c639eb')"
      ]
     },
     "execution_count": 60,
     "metadata": {},
     "output_type": "execute_result"
    }
   ],
   "source": [
    "collection.insert({'이름':'로운', '직업':'개발자'})"
   ]
  },
  {
   "cell_type": "code",
   "execution_count": 61,
   "metadata": {},
   "outputs": [
    {
     "data": {
      "text/plain": [
       "<pymongo.results.InsertOneResult at 0x1e673d7fdc8>"
      ]
     },
     "execution_count": 61,
     "metadata": {},
     "output_type": "execute_result"
    }
   ],
   "source": [
    "collection.insert_one({'이름':'혁수','직업':'개그맨'})"
   ]
  },
  {
   "cell_type": "code",
   "execution_count": 62,
   "metadata": {},
   "outputs": [
    {
     "data": {
      "text/plain": [
       "<pymongo.results.InsertManyResult at 0x1e673c9e508>"
      ]
     },
     "execution_count": 62,
     "metadata": {},
     "output_type": "execute_result"
    }
   ],
   "source": [
    "collection.insert_many([{'이름':'지수','직업':'가수'},\n",
    "                       {'이름':'노제','직업':'댄서'},\n",
    "                       {'이름':'마동석','직업':'배우'},\n",
    "                       {'이름':'아이유','직업':'개발자'},\n",
    "                       {'이름':'톰형','직업':'배우'}])"
   ]
  },
  {
   "cell_type": "markdown",
   "metadata": {},
   "source": [
    "- 조회\n",
    "    - find()\n",
    "    - find_one()"
   ]
  },
  {
   "cell_type": "code",
   "execution_count": 63,
   "metadata": {},
   "outputs": [
    {
     "name": "stdout",
     "output_type": "stream",
     "text": [
      "{'_id': ObjectId('62949c97f37bc9c567c639eb'), '이름': '로운', '직업': '개발자'}\n",
      "{'_id': ObjectId('62949c98f37bc9c567c639ec'), '이름': '혁수', '직업': '개그맨'}\n",
      "{'_id': ObjectId('62949c99f37bc9c567c639ed'), '이름': '지수', '직업': '가수'}\n",
      "{'_id': ObjectId('62949c99f37bc9c567c639ee'), '이름': '노제', '직업': '댄서'}\n",
      "{'_id': ObjectId('62949c99f37bc9c567c639ef'), '이름': '마동석', '직업': '배우'}\n",
      "{'_id': ObjectId('62949c99f37bc9c567c639f0'), '이름': '아이유', '직업': '개발자'}\n",
      "{'_id': ObjectId('62949c99f37bc9c567c639f1'), '이름': '톰형', '직업': '배우'}\n"
     ]
    }
   ],
   "source": [
    "for item in collection.find() : \n",
    "    print(item)"
   ]
  },
  {
   "cell_type": "code",
   "execution_count": 64,
   "metadata": {},
   "outputs": [
    {
     "data": {
      "text/plain": [
       "{'_id': ObjectId('62949c99f37bc9c567c639ed'), '이름': '지수', '직업': '가수'}"
      ]
     },
     "execution_count": 64,
     "metadata": {},
     "output_type": "execute_result"
    }
   ],
   "source": [
    "collection.find_one({'이름':'지수'})"
   ]
  },
  {
   "cell_type": "code",
   "execution_count": 65,
   "metadata": {},
   "outputs": [
    {
     "name": "stdout",
     "output_type": "stream",
     "text": [
      "{'_id': ObjectId('62949c99f37bc9c567c639ee'), '이름': '노제', '직업': '댄서'}\n",
      "{'_id': ObjectId('62949c97f37bc9c567c639eb'), '이름': '로운', '직업': '개발자'}\n",
      "{'_id': ObjectId('62949c99f37bc9c567c639ef'), '이름': '마동석', '직업': '배우'}\n",
      "{'_id': ObjectId('62949c99f37bc9c567c639f0'), '이름': '아이유', '직업': '개발자'}\n",
      "{'_id': ObjectId('62949c99f37bc9c567c639ed'), '이름': '지수', '직업': '가수'}\n",
      "{'_id': ObjectId('62949c99f37bc9c567c639f1'), '이름': '톰형', '직업': '배우'}\n",
      "{'_id': ObjectId('62949c98f37bc9c567c639ec'), '이름': '혁수', '직업': '개그맨'}\n"
     ]
    }
   ],
   "source": [
    "# 이름에 대해서 오름차순으로 정렬\n",
    "for item in collection.find().sort('이름'):\n",
    "    print(item)"
   ]
  },
  {
   "cell_type": "code",
   "execution_count": 66,
   "metadata": {},
   "outputs": [
    {
     "name": "stdout",
     "output_type": "stream",
     "text": [
      "{'_id': ObjectId('62949c98f37bc9c567c639ec'), '이름': '혁수', '직업': '개그맨'}\n",
      "{'_id': ObjectId('62949c99f37bc9c567c639f1'), '이름': '톰형', '직업': '배우'}\n",
      "{'_id': ObjectId('62949c99f37bc9c567c639ed'), '이름': '지수', '직업': '가수'}\n",
      "{'_id': ObjectId('62949c99f37bc9c567c639f0'), '이름': '아이유', '직업': '개발자'}\n",
      "{'_id': ObjectId('62949c99f37bc9c567c639ef'), '이름': '마동석', '직업': '배우'}\n",
      "{'_id': ObjectId('62949c97f37bc9c567c639eb'), '이름': '로운', '직업': '개발자'}\n",
      "{'_id': ObjectId('62949c99f37bc9c567c639ee'), '이름': '노제', '직업': '댄서'}\n"
     ]
    }
   ],
   "source": [
    "# 이름에 대해서 오름차순으로 정렬\n",
    "for item in collection.find().sort('이름', pymongo.DESCENDING):\n",
    "    print(item)"
   ]
  },
  {
   "cell_type": "markdown",
   "metadata": {},
   "source": [
    "- 수정\n",
    "    - update() : deprecated\n",
    "    - update_one()\n",
    "    - update_many()"
   ]
  },
  {
   "cell_type": "code",
   "execution_count": 67,
   "metadata": {},
   "outputs": [
    {
     "data": {
      "text/plain": [
       "<pymongo.results.UpdateResult at 0x1e673d8c0c8>"
      ]
     },
     "execution_count": 67,
     "metadata": {},
     "output_type": "execute_result"
    }
   ],
   "source": [
    "collection.update_one({'이름':'아이유'},{'$set':{'직업':'데이터분석가'}})"
   ]
  },
  {
   "cell_type": "code",
   "execution_count": 68,
   "metadata": {},
   "outputs": [
    {
     "name": "stdout",
     "output_type": "stream",
     "text": [
      "{'_id': ObjectId('62949c99f37bc9c567c639ee'), '이름': '노제', '직업': '댄서'}\n",
      "{'_id': ObjectId('62949c97f37bc9c567c639eb'), '이름': '로운', '직업': '개발자'}\n",
      "{'_id': ObjectId('62949c99f37bc9c567c639ef'), '이름': '마동석', '직업': '배우'}\n",
      "{'_id': ObjectId('62949c99f37bc9c567c639f0'), '이름': '아이유', '직업': '데이터분석가'}\n",
      "{'_id': ObjectId('62949c99f37bc9c567c639ed'), '이름': '지수', '직업': '가수'}\n",
      "{'_id': ObjectId('62949c99f37bc9c567c639f1'), '이름': '톰형', '직업': '배우'}\n",
      "{'_id': ObjectId('62949c98f37bc9c567c639ec'), '이름': '혁수', '직업': '개그맨'}\n"
     ]
    }
   ],
   "source": [
    "for item in collection.find().sort('이름'):\n",
    "    print(item)"
   ]
  },
  {
   "cell_type": "code",
   "execution_count": 69,
   "metadata": {},
   "outputs": [
    {
     "data": {
      "text/plain": [
       "<pymongo.results.UpdateResult at 0x1e6729b7248>"
      ]
     },
     "execution_count": 69,
     "metadata": {},
     "output_type": "execute_result"
    }
   ],
   "source": [
    "# 직업이 배우인 사람의 직업을 연예인으로 변경\n",
    "collection.update_many({'이름':'아이유'},{'$set':{'직업':'데이터분석가'}})"
   ]
  },
  {
   "cell_type": "code",
   "execution_count": 70,
   "metadata": {},
   "outputs": [
    {
     "name": "stdout",
     "output_type": "stream",
     "text": [
      "{'_id': ObjectId('62949c99f37bc9c567c639ee'), '이름': '노제', '직업': '댄서'}\n",
      "{'_id': ObjectId('62949c97f37bc9c567c639eb'), '이름': '로운', '직업': '개발자'}\n",
      "{'_id': ObjectId('62949c99f37bc9c567c639ef'), '이름': '마동석', '직업': '배우'}\n",
      "{'_id': ObjectId('62949c99f37bc9c567c639f0'), '이름': '아이유', '직업': '데이터분석가'}\n",
      "{'_id': ObjectId('62949c99f37bc9c567c639ed'), '이름': '지수', '직업': '가수'}\n",
      "{'_id': ObjectId('62949c99f37bc9c567c639f1'), '이름': '톰형', '직업': '배우'}\n",
      "{'_id': ObjectId('62949c98f37bc9c567c639ec'), '이름': '혁수', '직업': '개그맨'}\n"
     ]
    }
   ],
   "source": [
    "for item in collection.find().sort('이름'):\n",
    "    print(item)"
   ]
  },
  {
   "cell_type": "markdown",
   "metadata": {},
   "source": [
    "- 삭제\n",
    "    - delete_one()\n",
    "    - delete_many()\n",
    "    - remove() : deprecated"
   ]
  },
  {
   "cell_type": "code",
   "execution_count": 71,
   "metadata": {},
   "outputs": [
    {
     "data": {
      "text/plain": [
       "<pymongo.results.DeleteResult at 0x1e673d8c6c8>"
      ]
     },
     "execution_count": 71,
     "metadata": {},
     "output_type": "execute_result"
    }
   ],
   "source": [
    "#collection.delete_one({'이름':'로운'})\n",
    "collection.delete_one({'이름':'로운'})"
   ]
  },
  {
   "cell_type": "code",
   "execution_count": 72,
   "metadata": {},
   "outputs": [
    {
     "name": "stdout",
     "output_type": "stream",
     "text": [
      "{'_id': ObjectId('62949c99f37bc9c567c639ee'), '이름': '노제', '직업': '댄서'}\n",
      "{'_id': ObjectId('62949c99f37bc9c567c639ef'), '이름': '마동석', '직업': '배우'}\n",
      "{'_id': ObjectId('62949c99f37bc9c567c639f0'), '이름': '아이유', '직업': '데이터분석가'}\n",
      "{'_id': ObjectId('62949c99f37bc9c567c639ed'), '이름': '지수', '직업': '가수'}\n",
      "{'_id': ObjectId('62949c99f37bc9c567c639f1'), '이름': '톰형', '직업': '배우'}\n",
      "{'_id': ObjectId('62949c98f37bc9c567c639ec'), '이름': '혁수', '직업': '개그맨'}\n"
     ]
    }
   ],
   "source": [
    "for item in collection.find().sort('이름'):\n",
    "    print(item)"
   ]
  },
  {
   "cell_type": "code",
   "execution_count": 73,
   "metadata": {},
   "outputs": [
    {
     "data": {
      "text/plain": [
       "6"
      ]
     },
     "execution_count": 73,
     "metadata": {},
     "output_type": "execute_result"
    }
   ],
   "source": [
    "collection.count_documents({})"
   ]
  },
  {
   "cell_type": "code",
   "execution_count": 74,
   "metadata": {},
   "outputs": [
    {
     "data": {
      "text/plain": [
       "1"
      ]
     },
     "execution_count": 74,
     "metadata": {},
     "output_type": "execute_result"
    }
   ],
   "source": [
    "collection.count_documents({'이름':'톰형'})"
   ]
  },
  {
   "cell_type": "code",
   "execution_count": 75,
   "metadata": {},
   "outputs": [
    {
     "data": {
      "text/plain": [
       "['test']"
      ]
     },
     "execution_count": 75,
     "metadata": {},
     "output_type": "execute_result"
    }
   ],
   "source": [
    "db.list_collection_names()"
   ]
  },
  {
   "cell_type": "code",
   "execution_count": 76,
   "metadata": {},
   "outputs": [
    {
     "data": {
      "text/plain": [
       "['admin', 'config', 'jsondb', 'local', 'sample']"
      ]
     },
     "execution_count": 76,
     "metadata": {},
     "output_type": "execute_result"
    }
   ],
   "source": [
    "client.list_database_names()"
   ]
  },
  {
   "cell_type": "code",
   "execution_count": null,
   "metadata": {
    "collapsed": true
   },
   "outputs": [],
   "source": [
    "# 컬렉션 삭제 \n",
    "# db.drop_collection(collection)\n",
    "\n",
    "# 데이터베이스 삭제\n",
    "# client.drop_database(db)"
   ]
  }
 ],
 "metadata": {
  "kernelspec": {
   "display_name": "Python 3",
   "language": "python",
   "name": "python3"
  },
  "language_info": {
   "codemirror_mode": {
    "name": "ipython",
    "version": 3
   },
   "file_extension": ".py",
   "mimetype": "text/x-python",
   "name": "python",
   "nbconvert_exporter": "python",
   "pygments_lexer": "ipython3",
   "version": "3.6.3"
  }
 },
 "nbformat": 4,
 "nbformat_minor": 2
}
